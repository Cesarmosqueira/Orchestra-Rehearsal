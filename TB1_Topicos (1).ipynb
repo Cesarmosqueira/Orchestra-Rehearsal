{
  "nbformat": 4,
  "nbformat_minor": 0,
  "metadata": {
    "colab": {
      "name": "TB1_Topicos.ipynb",
      "provenance": [],
      "collapsed_sections": []
    },
    "kernelspec": {
      "display_name": "Python 3",
      "name": "python3"
    },
    "language_info": {
      "name": "python"
    }
  },
  "cells": [
    {
      "cell_type": "code",
      "metadata": {
        "colab": {
          "base_uri": "https://localhost:8080/"
        },
        "id": "CBkowsXcYmz_",
        "outputId": "7360b9ff-ef9c-44c8-b8f3-2cc83e985454"
      },
      "source": [
        "!pip install ortools"
      ],
      "execution_count": 1,
      "outputs": [
        {
          "output_type": "stream",
          "name": "stdout",
          "text": [
            "Collecting ortools\n",
            "  Downloading ortools-9.0.9048-cp37-cp37m-manylinux1_x86_64.whl (14.4 MB)\n",
            "\u001b[K     |████████████████████████████████| 14.4 MB 94 kB/s \n",
            "\u001b[?25hRequirement already satisfied: protobuf>=3.15.8 in /usr/local/lib/python3.7/dist-packages (from ortools) (3.17.3)\n",
            "Requirement already satisfied: absl-py>=0.11 in /usr/local/lib/python3.7/dist-packages (from ortools) (0.12.0)\n",
            "Requirement already satisfied: six in /usr/local/lib/python3.7/dist-packages (from absl-py>=0.11->ortools) (1.15.0)\n",
            "Installing collected packages: ortools\n",
            "Successfully installed ortools-9.0.9048\n"
          ]
        }
      ]
    },
    {
      "cell_type": "code",
      "metadata": {
        "id": "QeoD0eyvZfkS"
      },
      "source": [
        "from ortools.sat.python import cp_model\n",
        "import time\n",
        "import numpy"
      ],
      "execution_count": 74,
      "outputs": []
    },
    {
      "cell_type": "code",
      "metadata": {
        "id": "JtfD2qhyYvZN"
      },
      "source": [
        "tabpxc = [[1, 0, 1, 1, 0, 1, 1, 0, 1], #Tabla del problema Musico x Numero de composicion\n",
        "          [1, 0, 1, 1, 1, 1, 0, 1, 0],\n",
        "          [1, 1, 0, 0, 1, 0, 0, 1, 0],\n",
        "          [1, 0, 0, 0, 1, 0, 1, 0, 1], \n",
        "          [0, 1, 0, 1, 1, 1, 1, 0, 0]]\n",
        "arrcxd = [2, 4, 1, 3, 3, 2, 5, 7, 6] #Duración de composiciones"
      ],
      "execution_count": 75,
      "outputs": []
    },
    {
      "cell_type": "code",
      "metadata": {
        "id": "F0u1gAdbYyw9",
        "colab": {
          "base_uri": "https://localhost:8080/"
        },
        "outputId": "0266f763-7997-4fb3-b940-95944f1130a6"
      },
      "source": [
        "inicio = time.clock()\n",
        "model = cp_model.CpModel()\n",
        "\n",
        "waiti = model.NewIntVar(0, sum(arrcxd)*5, 'z') #Tiempo total de espera\n",
        "\n",
        "tabcxo = [] \n",
        "for i in range(len(tabpxc[0])): \n",
        "    fila = [] \n",
        "    for j in range(len(tabpxc[0])):\n",
        "      fila += [model.NewBoolVar('x'+str(i)+str(j))]\n",
        "    tabcxo += [fila]\n",
        "\n",
        "arrcxo = [] \n",
        "for i in range(len(tabcxo)):\n",
        "    arrcxo += [model.NewIntVar(1, 9, 'x'+str(i))]\n",
        "    for j in range(len(tabcxo)):\n",
        "      model.Add(arrcxo[i] == j + 1).OnlyEnforceIf(tabcxo[i][j])\n",
        "      model.Add(arrcxo[i] != j + 1).OnlyEnforceIf(tabcxo[i][j].Not())\n",
        "\n",
        "tmp = [] \n",
        "invtmp = []\n",
        "for i in range(9):\n",
        "    tmp += [[model.NewIntVar(0,1,'pcomp_'+str(i)+'_'+str(j)) for j in range(5)]]\n",
        "    invtmp += [[model.NewIntVar(0,1,'invwaitTime_'+str(i)+'_'+str(j)) for j in range(5)]]\n",
        "\n",
        "for i in range(9):\n",
        "    for j in range(9):\n",
        "        for z in range(5):\n",
        "            model.Add(tmp[i][z] == tabpxc[z][j]).OnlyEnforceIf(tabcxo[j][i])\n",
        "            model.Add(invtmp[i][z] == -1*tabpxc[z][j]+1).OnlyEnforceIf(tabcxo[j][i])\n",
        "\n",
        "\n",
        "tmp2 = [] \n",
        "tmp3 = []\n",
        "for i in range(5):\n",
        "    tmp2 += [[model.NewIntVar(0,100,'waitTime_'+str(i)+'_'+str(j)) for j in range(9)]]\n",
        "    tmp3 += [[model.NewIntVar(0,100,'waitTime_'+str(i)+'_'+str(j)) for j in range(9)]]\n",
        "\n",
        "for i in range(9):\n",
        "    for j in range(9):\n",
        "        for z in range(5):\n",
        "            model.AddMultiplicationEquality(tmp2[z][j], [invtmp[j][z], arrcxd[j]])\n",
        "            model.Add(tmp3[z][j] == tmp2[z][j]).OnlyEnforceIf(tabcxo[i][j])\n",
        "\n",
        "arrival = []\n",
        "\n",
        "val1 = model.NewIntVar(1,1,\"val1\")\n",
        "for i in range(5):\n",
        "    arrival +=[[model.NewIntVar(0,16,'arr'+str(i)+''+str(j)) for j in range(9)]]\n",
        "for i in range(5):\n",
        "  b=15\n",
        "  for j in range(9):\n",
        "    model.Add(arrival[i][j] == b).OnlyEnforceIf(tmp[j][i])\n",
        "    b-=1\n",
        "\n",
        "\n",
        "wait = []\n",
        "for i in range(5):\n",
        "    wait += [sum(tmp2[i])]\n",
        "model.Add(sum(wait) == waiti)\n",
        "model.Minimize(waiti)\n",
        "\n",
        "model.AddAllDifferent(arrcxo)\n",
        "model.Add(arrcxo[1] < arrcxo[7]) #La composición 2 debe estar antes que la composición 8\n",
        "model.Add(arrcxo[4]+1 == arrcxo[5]) #La composición 6 debe darse justo despues de la 5\n",
        "\n",
        " #**Heuristicas**  \n",
        "var=2\n",
        "val=1\n",
        "model.AddDecisionStrategy(arrcxo, var, val) \n",
        "for i in range(len(tabcxo)): model.AddDecisionStrategy(tabcxo[i], var,val ) \n",
        "for i in range(len(tmp)): model.AddDecisionStrategy(tmp[i], var, val) \n",
        "for i in range(len(invtmp)): model.AddDecisionStrategy(invtmp[i], var, val) \n",
        "for i in range(len(tmp2)): model.AddDecisionStrategy(tmp2[i], var, val) \n",
        "for i in range(len(tmp3)): model.AddDecisionStrategy(tmp3[i], var, val) \n",
        "  \n",
        "\n",
        "#solver\n",
        "\n",
        "solver = cp_model.CpSolver()\n",
        "status = solver.Solve(model)\n",
        "\n",
        "if status == cp_model.OPTIMAL:\n",
        "\n",
        "\n",
        "  #header\n",
        "    print('\\t',end='')\n",
        "    for i in range(9):\n",
        "        print(str(i+1),end='\\t')\n",
        "    print()\n",
        "    print('Orden:', end='\\t')\n",
        "    for i in range(9):\n",
        "        print(solver.Value(arrcxo[i]),end='\\t')\n",
        "    print()\n",
        "    print('Dura:', end='\\t')\n",
        "    for i in range(9):\n",
        "        print(arrcxd[i],end='\\t')\n",
        "    print()\n",
        "    print()\n",
        "    ######################################## \n",
        "    print(\"Relacion de que composicion toca cada hora del evento\")\n",
        "    i_t = [[],[],[],[],[]]\n",
        "    prog = [[],[],[],[],[]]\n",
        "    for i in range(9):\n",
        "        print('Comp'+str(i+1),end='->\\t')\n",
        "        for j in range(9):\n",
        "            print(solver.Value(tabcxo[i][j]),end='\\t')\n",
        "        print()\n",
        "    print()\n",
        "    ######################################## \n",
        "    print(\"Composicion x player: donde las composiciones donde participa son 1\")\n",
        "    for i in range(5):\n",
        "        print('P'+str(i+1),end='->\\t')\n",
        "        for j in range(9):\n",
        "            print(solver.Value(tmp[j][i]),end='\\t')\n",
        "            i_t[i].append(solver.Value(tmp[j][i]))\n",
        "        print()\n",
        "    print()\n",
        "    print(\"Composicion x player: donde los valores > 0 son los espacios donde no toca el player (sin filtrar la llegada y salida)\")\n",
        "    for i in range(5):\n",
        "        print('P'+str(i+1),end='->\\t')\n",
        "        for j in range(9):\n",
        "            print(solver.Value(tmp2[i][j]),end='\\t')\n",
        "            prog[i].append(solver.Value(tmp2[i][j]))\n",
        "        print()\n",
        "    print()\n",
        "\n",
        "    print('Tiempo Total: ', solver.Value(waiti))\n",
        "else: print(\"NO\")\n",
        "\n",
        "\n",
        "delta_clock = time.clock() - inicio\n",
        "print('tiemp: ',delta_clock)"
      ],
      "execution_count": 77,
      "outputs": [
        {
          "output_type": "stream",
          "name": "stderr",
          "text": [
            "/usr/local/lib/python3.7/dist-packages/ipykernel_launcher.py:1: DeprecationWarning: time.clock has been deprecated in Python 3.3 and will be removed from Python 3.8: use time.perf_counter or time.process_time instead\n",
            "  \"\"\"Entry point for launching an IPython kernel.\n"
          ]
        },
        {
          "output_type": "stream",
          "name": "stdout",
          "text": [
            "\t1\t2\t3\t4\t5\t6\t7\t8\t9\t\n",
            "Orden:\t7\t5\t3\t4\t8\t9\t2\t6\t1\t\n",
            "Dura:\t2\t4\t1\t3\t3\t2\t5\t7\t6\t\n",
            "\n",
            "Relacion de que composicion toca cada hora del evento\n",
            "Comp1->\t0\t0\t0\t0\t0\t0\t1\t0\t0\t\n",
            "Comp2->\t0\t0\t0\t0\t1\t0\t0\t0\t0\t\n",
            "Comp3->\t0\t0\t1\t0\t0\t0\t0\t0\t0\t\n",
            "Comp4->\t0\t0\t0\t1\t0\t0\t0\t0\t0\t\n",
            "Comp5->\t0\t0\t0\t0\t0\t0\t0\t1\t0\t\n",
            "Comp6->\t0\t0\t0\t0\t0\t0\t0\t0\t1\t\n",
            "Comp7->\t0\t1\t0\t0\t0\t0\t0\t0\t0\t\n",
            "Comp8->\t0\t0\t0\t0\t0\t1\t0\t0\t0\t\n",
            "Comp9->\t1\t0\t0\t0\t0\t0\t0\t0\t0\t\n",
            "\n",
            "Composicion x player: donde las composiciones donde participa son 1\n",
            "P1->\t1\t1\t1\t1\t0\t0\t1\t0\t1\t\n",
            "P2->\t0\t0\t1\t1\t0\t1\t1\t1\t1\t\n",
            "P3->\t0\t0\t0\t0\t1\t1\t1\t1\t0\t\n",
            "P4->\t1\t1\t0\t0\t0\t0\t1\t1\t0\t\n",
            "P5->\t0\t1\t0\t1\t1\t0\t0\t1\t1\t\n",
            "\n",
            "Composicion x player: donde los valores > 0 son los espacios donde no toca el player (sin filtrar la llegada y salida)\n",
            "P1->\t0\t0\t0\t0\t3\t2\t0\t7\t0\t\n",
            "P2->\t2\t4\t0\t0\t3\t0\t0\t0\t0\t\n",
            "P3->\t2\t4\t1\t3\t0\t0\t0\t0\t6\t\n",
            "P4->\t0\t0\t1\t3\t3\t2\t0\t0\t6\t\n",
            "P5->\t2\t0\t1\t0\t0\t2\t5\t0\t0\t\n",
            "\n",
            "Tiempo Total:  62\n",
            "tiemp:  0.38334700000000055\n"
          ]
        },
        {
          "output_type": "stream",
          "name": "stderr",
          "text": [
            "/usr/local/lib/python3.7/dist-packages/ipykernel_launcher.py:132: DeprecationWarning: time.clock has been deprecated in Python 3.3 and will be removed from Python 3.8: use time.perf_counter or time.process_time instead\n"
          ]
        }
      ]
    },
    {
      "cell_type": "markdown",
      "metadata": {
        "id": "xUkbBxPBjpzy"
      },
      "source": [
        "# Lo que se pretendia hacer (falta completar): Excluir las horas libres previas y posteriores a la llegada y salida del artista, del calculo de tiempo de espera total."
      ]
    },
    {
      "cell_type": "code",
      "metadata": {
        "id": "oDJt2Aqmb43o",
        "colab": {
          "base_uri": "https://localhost:8080/"
        },
        "outputId": "d8411684-c1e5-4cef-97f9-1b1eb2061766"
      },
      "source": [
        "llegadas = []\n",
        "salidas = []\n",
        "for i in range(5):\n",
        "    for j in range(9):\n",
        "        if i_t[i][j] == 1: \n",
        "            llegadas.append(j)\n",
        "            break\n",
        "for i in range(5):\n",
        "    i_t[i].reverse()\n",
        "    for j in range(9):\n",
        "        if i_t[i][j] == 1: \n",
        "            salidas.append(9-j)\n",
        "            break\n",
        "\n",
        "tiempoTot = 0\n",
        "\n",
        "for i in range(5):\n",
        "    tiempoTot += sum(prog[i][llegadas[i]:salidas[i]-1])\n",
        "print(\"Tiempo total de espera: \",tiempoTot)"
      ],
      "execution_count": 72,
      "outputs": [
        {
          "output_type": "stream",
          "name": "stdout",
          "text": [
            "Tiempo total de espera:  32\n"
          ]
        }
      ]
    }
  ]
}